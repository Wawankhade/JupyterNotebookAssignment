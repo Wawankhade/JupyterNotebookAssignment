{
 "cells": [
  {
   "cell_type": "markdown",
   "id": "92464dc1",
   "metadata": {},
   "source": [
    "# Data Science Tools and Ecosystem"
   ]
  },
  {
   "cell_type": "markdown",
   "id": "a5b22e47",
   "metadata": {},
   "source": [
    "In this notebook, Data Science Tools and Ecosystem are summarized."
   ]
  },
  {
   "cell_type": "markdown",
   "id": "c5ee2b31",
   "metadata": {},
   "source": [
    "__Objectives__\n",
    "- To learn about popular languages  Data Science\n",
    "- Popluar liabraries that data scientists use \n",
    "- Adding markdown rows to jupyter Notebook\n",
    "- How to insert a table  jupyter Notebook"
   ]
  },
  {
   "cell_type": "markdown",
   "id": "8bdde8a6",
   "metadata": {},
   "source": [
    "Some of the popular languages that Data Scientists use are:\n",
    "1. Python\n",
    "2. R\n",
    "3. java\n",
    "4. javascript\n",
    "5. Scala"
   ]
  },
  {
   "cell_type": "markdown",
   "id": "e2df020c",
   "metadata": {},
   "source": [
    "Some of the commonly used libraries used by Data Scientists include:\n",
    "1. Pytorch\n",
    "2. TensorFlow\n",
    "3. scikit-learn\n",
    "4. Theono\n",
    "5. caffe\n"
   ]
  },
  {
   "cell_type": "markdown",
   "id": "2eb482d2",
   "metadata": {},
   "source": [
    "|Data Scinece Tools|\n",
    "|------------------|\n",
    "|TensorFlow|\n",
    "|-----------|\n",
    "|ApacheSpark|\n",
    "|-----------|\n",
    "|Rstudio|"
   ]
  },
  {
   "cell_type": "markdown",
   "id": "41d24af0",
   "metadata": {},
   "source": [
    "### Below are a few examples of evaluating arithmetic expressions in Python"
   ]
  },
  {
   "cell_type": "code",
   "execution_count": 1,
   "id": "c3ba172e",
   "metadata": {},
   "outputs": [
    {
     "data": {
      "text/plain": [
       "17"
      ]
     },
     "execution_count": 1,
     "metadata": {},
     "output_type": "execute_result"
    }
   ],
   "source": [
    "# This a simple arithmetic expression to mutiply then add integers\n",
    "(3*4)+5"
   ]
  },
  {
   "cell_type": "code",
   "execution_count": 2,
   "id": "ffa53f41",
   "metadata": {},
   "outputs": [
    {
     "data": {
      "text/plain": [
       "3.3333333333333335"
      ]
     },
     "execution_count": 2,
     "metadata": {},
     "output_type": "execute_result"
    }
   ],
   "source": [
    "# This will convert 200 minutes to hours by diving by 60\n",
    "\n",
    "200/60"
   ]
  },
  {
   "cell_type": "markdown",
   "id": "8cf854fa",
   "metadata": {},
   "source": [
    "## Author\n",
    "Akshay Wankhade"
   ]
  },
  {
   "cell_type": "code",
   "execution_count": null,
   "id": "5456eb87",
   "metadata": {},
   "outputs": [],
   "source": []
  }
 ],
 "metadata": {
  "kernelspec": {
   "display_name": "Python 3 (ipykernel)",
   "language": "python",
   "name": "python3"
  },
  "language_info": {
   "codemirror_mode": {
    "name": "ipython",
    "version": 3
   },
   "file_extension": ".py",
   "mimetype": "text/x-python",
   "name": "python",
   "nbconvert_exporter": "python",
   "pygments_lexer": "ipython3",
   "version": "3.11.3"
  }
 },
 "nbformat": 4,
 "nbformat_minor": 5
}
